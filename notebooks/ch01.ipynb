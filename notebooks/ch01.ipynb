{
  "nbformat": 4,
  "nbformat_minor": 0,
  "metadata": {
    "colab": {
      "provenance": [],
      "authorship_tag": "ABX9TyNNbZyIZpAROJSwY0+7QB7u",
      "include_colab_link": true
    },
    "kernelspec": {
      "name": "python3",
      "display_name": "Python 3"
    },
    "language_info": {
      "name": "python"
    }
  },
  "cells": [
    {
      "cell_type": "markdown",
      "metadata": {
        "id": "view-in-github",
        "colab_type": "text"
      },
      "source": [
        "<a href=\"https://colab.research.google.com/github/cloudhood/applying-math-python-2e/blob/main/notebooks/ch01.ipynb\" target=\"_parent\"><img src=\"https://colab.research.google.com/assets/colab-badge.svg\" alt=\"Open In Colab\"/></a>"
      ]
    },
    {
      "cell_type": "markdown",
      "source": [
        "# Chapter 1: An Introduction to Basic Packages, Functions, and Concepts"
      ],
      "metadata": {
        "id": "JZF_ikKo28cV"
      }
    },
    {
      "cell_type": "code",
      "execution_count": 2,
      "metadata": {
        "id": "izXYs55f0fGj"
      },
      "outputs": [],
      "source": [
        "import numpy as np\n",
        "import scipy as sp"
      ]
    },
    {
      "cell_type": "markdown",
      "source": [
        "## Decimal Type"
      ],
      "metadata": {
        "id": "4HyyCWV23BvQ"
      }
    },
    {
      "cell_type": "code",
      "source": [
        "from decimal import Decimal"
      ],
      "metadata": {
        "id": "SYPx99K9y6EO"
      },
      "execution_count": 3,
      "outputs": []
    },
    {
      "cell_type": "code",
      "source": [
        "1.1 + 1.563 # Small error from being limited to finite sum of powers of 2."
      ],
      "metadata": {
        "colab": {
          "base_uri": "https://localhost:8080/"
        },
        "id": "6TNzj5lQzPNA",
        "outputId": "fa31a96f-c9f6-4c02-c59f-4489d0fdd8c0"
      },
      "execution_count": 4,
      "outputs": [
        {
          "output_type": "execute_result",
          "data": {
            "text/plain": [
              "2.6630000000000003"
            ]
          },
          "metadata": {},
          "execution_count": 4
        }
      ]
    },
    {
      "cell_type": "code",
      "source": [
        "# Uses IBM general decimal arithmetic spec - using powers of 10.\n",
        "# Less memory efficient as it stores decimal digits rather than bits.\n",
        "n1 = Decimal('1.1')\n",
        "n2 = Decimal('1.563')\n",
        "n1 + n2"
      ],
      "metadata": {
        "colab": {
          "base_uri": "https://localhost:8080/"
        },
        "id": "-ThoT90hzQZw",
        "outputId": "0e4a0477-8ec4-4111-bda1-a916d7cb28a2"
      },
      "execution_count": 5,
      "outputs": [
        {
          "output_type": "execute_result",
          "data": {
            "text/plain": [
              "Decimal('2.663')"
            ]
          },
          "metadata": {},
          "execution_count": 5
        }
      ]
    },
    {
      "cell_type": "code",
      "source": [
        "from decimal import getcontext\n",
        "\n",
        "# More fine-grained control over precision, display and attributes.\n",
        "ctx = getcontext()\n",
        "\n",
        "# Decimal('1.4641')\n",
        "num = Decimal('1.1')\n",
        "print(num ** 4)\n",
        "\n",
        "# Decimal('1.464')\n",
        "ctx.prec = 4 # set new precision. default = 28.\n",
        "print(num ** 4)"
      ],
      "metadata": {
        "colab": {
          "base_uri": "https://localhost:8080/"
        },
        "id": "XoHBRReSzcA_",
        "outputId": "122773f8-8a37-41ab-e2f4-229c0a2ec559"
      },
      "execution_count": 6,
      "outputs": [
        {
          "output_type": "stream",
          "name": "stdout",
          "text": [
            "1.4641\n",
            "1.464\n"
          ]
        }
      ]
    },
    {
      "cell_type": "code",
      "source": [
        "from decimal import localcontext\n",
        "num = Decimal(\"1.1\")\n",
        "\n",
        "# Set context locally\n",
        "with localcontext() as ctx:\n",
        "    ctx.prec = 2\n",
        "    print(num ** 4) # Decimal('1.5')\n",
        "\n",
        "# Original environment restored\n",
        "num ** 4  # Decimal('1.4641')"
      ],
      "metadata": {
        "colab": {
          "base_uri": "https://localhost:8080/"
        },
        "id": "XOhadP4Szl3Q",
        "outputId": "f4a02127-fab8-43fb-983a-8e42494c271d"
      },
      "execution_count": 7,
      "outputs": [
        {
          "output_type": "stream",
          "name": "stdout",
          "text": [
            "1.5\n"
          ]
        },
        {
          "output_type": "execute_result",
          "data": {
            "text/plain": [
              "Decimal('1.464')"
            ]
          },
          "metadata": {},
          "execution_count": 7
        }
      ]
    },
    {
      "cell_type": "code",
      "source": [
        "from fractions import Fraction\n",
        "\n",
        "# For applications that need accurate representations of integer fractions,\n",
        "# like proportions or probabilities, the Fraction type ise useful.\n",
        "num1 = Fraction(1, 3)\n",
        "num2 = Fraction(1, 7)\n",
        "num1 * num2  # Fraction(1, 21)"
      ],
      "metadata": {
        "colab": {
          "base_uri": "https://localhost:8080/"
        },
        "id": "uMbFI4Cxz6N3",
        "outputId": "016da73e-9a34-4a37-86ed-b400209d419c"
      },
      "execution_count": 8,
      "outputs": [
        {
          "output_type": "execute_result",
          "data": {
            "text/plain": [
              "Fraction(1, 21)"
            ]
          },
          "metadata": {},
          "execution_count": 8
        }
      ]
    },
    {
      "cell_type": "markdown",
      "source": [
        "## Functions"
      ],
      "metadata": {
        "id": "ZaTiuexz3E98"
      }
    },
    {
      "cell_type": "code",
      "source": [
        "# Complex numbers\n",
        "import cmath\n",
        "\n",
        "assert (1j) ** 2 == -1\n",
        "assert (1 + 1j) + 2 == (3 + 1j)\n",
        "assert (1 + 1j).conjugate() == (1 - 1j)\n",
        "assert cmath.sqrt(-1) == 1j\n",
        "\n",
        "t = 50\n",
        "assert cmath.exp(t * 1j) == cmath.cos(t) + 1j * cmath.sin(t)"
      ],
      "metadata": {
        "id": "00xe6gV_0VEo"
      },
      "execution_count": 9,
      "outputs": []
    },
    {
      "cell_type": "code",
      "source": [
        "# Math functions implemented in C.\n",
        "import math\n",
        "\n",
        "print(math.sqrt(4))\n",
        "print(math.log(10))\n",
        "print(math.log(10, 10))\n",
        "print(math.gamma(10))\n",
        "print(math.erf(3)) # Gaussian error"
      ],
      "metadata": {
        "colab": {
          "base_uri": "https://localhost:8080/"
        },
        "id": "fSd2lVWf1EZH",
        "outputId": "f690bf0a-9eab-454c-8ae5-24d3e91f2faf"
      },
      "execution_count": 10,
      "outputs": [
        {
          "output_type": "stream",
          "name": "stdout",
          "text": [
            "2.0\n",
            "2.302585092994046\n",
            "1.0\n",
            "362880.0\n",
            "0.9999779095030014\n"
          ]
        }
      ]
    },
    {
      "cell_type": "code",
      "source": [
        "math.comb(5, 2) # Number of ways to choose 2 items from 5 without replacement"
      ],
      "metadata": {
        "colab": {
          "base_uri": "https://localhost:8080/"
        },
        "id": "QMssZ20X1k9v",
        "outputId": "cedfb921-5a6c-4e1d-e35c-a3681a9e337e"
      },
      "execution_count": 11,
      "outputs": [
        {
          "output_type": "execute_result",
          "data": {
            "text/plain": [
              "10"
            ]
          },
          "metadata": {},
          "execution_count": 11
        }
      ]
    },
    {
      "cell_type": "code",
      "source": [
        "math.factorial(10)"
      ],
      "metadata": {
        "colab": {
          "base_uri": "https://localhost:8080/"
        },
        "id": "5UiKFCkL2LHx",
        "outputId": "b40d759f-b09b-480e-85b8-d965dd4884a7"
      },
      "execution_count": 12,
      "outputs": [
        {
          "output_type": "execute_result",
          "data": {
            "text/plain": [
              "3628800"
            ]
          },
          "metadata": {},
          "execution_count": 12
        }
      ]
    },
    {
      "cell_type": "code",
      "source": [
        "math.gcd(2, 4) # Greatest common divisor"
      ],
      "metadata": {
        "colab": {
          "base_uri": "https://localhost:8080/"
        },
        "id": "V-yX3vhb2L9o",
        "outputId": "368461f7-1149-412b-9c95-92fe97d7cd03"
      },
      "execution_count": 13,
      "outputs": [
        {
          "output_type": "execute_result",
          "data": {
            "text/plain": [
              "2"
            ]
          },
          "metadata": {},
          "execution_count": 13
        }
      ]
    },
    {
      "cell_type": "code",
      "source": [
        "math.gcd(4, 3)"
      ],
      "metadata": {
        "colab": {
          "base_uri": "https://localhost:8080/"
        },
        "id": "xivNLY5F2P0Y",
        "outputId": "d669c42c-2261-486d-e89e-267a84cdb93c"
      },
      "execution_count": 14,
      "outputs": [
        {
          "output_type": "execute_result",
          "data": {
            "text/plain": [
              "1"
            ]
          },
          "metadata": {},
          "execution_count": 14
        }
      ]
    },
    {
      "cell_type": "code",
      "source": [
        "nums = [.1] * 10\n",
        "\n",
        "print(sum(nums))\n",
        "\n",
        "# Addition on an iterable of numbers - keeps track of sums at each step\n",
        "# to reduce errors.\n",
        "print(math.fsum(nums)) "
      ],
      "metadata": {
        "colab": {
          "base_uri": "https://localhost:8080/"
        },
        "id": "YUuTyCW72Qng",
        "outputId": "41c1596d-22c9-4c5a-bd20-713c808b6f92"
      },
      "execution_count": 15,
      "outputs": [
        {
          "output_type": "stream",
          "name": "stdout",
          "text": [
            "0.9999999999999999\n",
            "1.0\n"
          ]
        }
      ]
    },
    {
      "cell_type": "code",
      "source": [
        "print(math.isclose(1, .9999999))\n",
        "print(math.isclose(1, .99999999))\n",
        "print(math.isclose(1, .999999999))"
      ],
      "metadata": {
        "colab": {
          "base_uri": "https://localhost:8080/"
        },
        "id": "5f7YOZpX2Wyn",
        "outputId": "cd832fb7-0493-4a9e-c244-a2a13c6fe3a0"
      },
      "execution_count": 16,
      "outputs": [
        {
          "output_type": "stream",
          "name": "stdout",
          "text": [
            "False\n",
            "False\n",
            "True\n"
          ]
        }
      ]
    },
    {
      "cell_type": "markdown",
      "source": [
        "# NumPy\n",
        "* High-performance array types and routines for manipulating arrays. \n",
        "* Forms the base for numerical and scientific Python stack.\n",
        "* Uses low-level libraries like BLAS under the hood."
      ],
      "metadata": {
        "id": "U__tRa1t24rN"
      }
    },
    {
      "cell_type": "code",
      "source": [
        "# To apply functions to a large collection of data simultaneously, better to use \n",
        "# math.* equivalents in NumPy - more efficient for working with arrays. \n",
        "arr = np.array([1, 2, 3, 4]) \n",
        "arr"
      ],
      "metadata": {
        "colab": {
          "base_uri": "https://localhost:8080/"
        },
        "id": "3ZVD3sjv2lul",
        "outputId": "c5c6ab30-9761-495c-f9f3-27f9d2248383"
      },
      "execution_count": 17,
      "outputs": [
        {
          "output_type": "execute_result",
          "data": {
            "text/plain": [
              "array([1, 2, 3, 4])"
            ]
          },
          "metadata": {},
          "execution_count": 17
        }
      ]
    },
    {
      "cell_type": "code",
      "source": [
        "# Basic type if the `ndarray` type (NumPy array), which wraps around an underlying\n",
        "# C array structure. Must consist of homogeneous data.\n",
        "print(type(arr))\n",
        "print(np.array([1, 2, 3, 4], dtype=np.int8))\n",
        "print(np.array([1, 2, 3, 4], dtype=np.float32))"
      ],
      "metadata": {
        "colab": {
          "base_uri": "https://localhost:8080/"
        },
        "id": "3_Uri3UL3a3l",
        "outputId": "f6a11ff3-944f-451a-ef28-0f8dddbcbadc"
      },
      "execution_count": 18,
      "outputs": [
        {
          "output_type": "stream",
          "name": "stdout",
          "text": [
            "<class 'numpy.ndarray'>\n",
            "[1 2 3 4]\n",
            "[1. 2. 3. 4.]\n"
          ]
        }
      ]
    },
    {
      "cell_type": "code",
      "source": [
        "arr = np.array([1, 2, 3, 4])\n",
        "print(arr)\n",
        "print(arr.dtype) # int64\n",
        "arr.dtype = np.float32\n",
        "print(arr)\n",
        "\n",
        "arr = np.array([1, 2, 3, 4])\n",
        "print(arr)\n",
        "arr = arr.astype(np.float32)\n",
        "print(arr)\n",
        "# [1. 2. 3. 4.]"
      ],
      "metadata": {
        "colab": {
          "base_uri": "https://localhost:8080/"
        },
        "id": "hMajVare3dZ9",
        "outputId": "fb6b040c-80d0-4e1d-9ffa-8eb1fc14050c"
      },
      "execution_count": 19,
      "outputs": [
        {
          "output_type": "stream",
          "name": "stdout",
          "text": [
            "[1 2 3 4]\n",
            "int64\n",
            "[1.e-45 0.e+00 3.e-45 0.e+00 4.e-45 0.e+00 6.e-45 0.e+00]\n",
            "[1 2 3 4]\n",
            "[1. 2. 3. 4.]\n"
          ]
        }
      ]
    },
    {
      "cell_type": "code",
      "source": [
        "np.zeros(10)"
      ],
      "metadata": {
        "colab": {
          "base_uri": "https://localhost:8080/"
        },
        "id": "1OeBiE673_cN",
        "outputId": "c2a301b7-9a4d-4dee-e0cf-54bd26183261"
      },
      "execution_count": 20,
      "outputs": [
        {
          "output_type": "execute_result",
          "data": {
            "text/plain": [
              "array([0., 0., 0., 0., 0., 0., 0., 0., 0., 0.])"
            ]
          },
          "metadata": {},
          "execution_count": 20
        }
      ]
    },
    {
      "cell_type": "code",
      "source": [
        "np.ones(10, dtype=np.int8)"
      ],
      "metadata": {
        "colab": {
          "base_uri": "https://localhost:8080/"
        },
        "id": "swQqFePF4M11",
        "outputId": "c4a0e129-4293-4b84-ab10-942e7bcff7ca"
      },
      "execution_count": 21,
      "outputs": [
        {
          "output_type": "execute_result",
          "data": {
            "text/plain": [
              "array([1, 1, 1, 1, 1, 1, 1, 1, 1, 1], dtype=int8)"
            ]
          },
          "metadata": {},
          "execution_count": 21
        }
      ]
    },
    {
      "cell_type": "code",
      "source": [
        "# `getitem` protocol\n",
        "arr = np.array([1, 2, 3, 4])\n",
        "print(arr[0])  # 1\n",
        "print(arr[2])  # 3"
      ],
      "metadata": {
        "colab": {
          "base_uri": "https://localhost:8080/"
        },
        "id": "Up9wMUSC4NxF",
        "outputId": "324b5a72-ce31-4173-c05f-c0d3a2717375"
      },
      "execution_count": 22,
      "outputs": [
        {
          "output_type": "stream",
          "name": "stdout",
          "text": [
            "1\n",
            "3\n"
          ]
        }
      ]
    },
    {
      "cell_type": "code",
      "source": [
        "first_two = arr[:2] \n",
        "even_idx = arr[::2] # start:stop:step\n",
        "print(first_two)\n",
        "print(even_idx)"
      ],
      "metadata": {
        "colab": {
          "base_uri": "https://localhost:8080/"
        },
        "id": "w6g7TPSz4Ug1",
        "outputId": "97d397bd-9abf-4210-f926-3ba003c5a50f"
      },
      "execution_count": 23,
      "outputs": [
        {
          "output_type": "stream",
          "name": "stdout",
          "text": [
            "[1 2]\n",
            "[1 3]\n"
          ]
        }
      ]
    },
    {
      "cell_type": "code",
      "source": [
        "# ufuncs (universal functions) are routines that can operate efficiently in\n",
        "# NumPy array types. Analogs of math.*.\n",
        "\n",
        "arr_a = np.array([1, 2, 3, 4])\n",
        "arr_b = np.array([1, 0, -3, 1])\n",
        "print(arr_a + arr_b)   # array([2, 2, 0, 5])\n",
        "print(arr_a - arr_b)   # array([0, 2, 6, 3])\n",
        "print(arr_a * arr_b)   # array([ 1, 0, -9, 4])\n",
        "print(arr_b / arr_a)   # array([ 1. , 0. , -1. , 0.25])\n",
        "print(arr_b ** arr_a)  # array([1, 0, -27, 1])"
      ],
      "metadata": {
        "colab": {
          "base_uri": "https://localhost:8080/"
        },
        "id": "gP5EzQon4aOG",
        "outputId": "26a51d34-0ad4-4c97-a586-9b4a17a6cc16"
      },
      "execution_count": 24,
      "outputs": [
        {
          "output_type": "stream",
          "name": "stdout",
          "text": [
            "[2 2 0 5]\n",
            "[0 2 6 3]\n",
            "[ 1  0 -9  4]\n",
            "[ 1.    0.   -1.    0.25]\n",
            "[  1   0 -27   1]\n"
          ]
        }
      ]
    },
    {
      "cell_type": "code",
      "source": [
        "# Array creation - generate arrays of numbers at regular intervals between two\n",
        "# given endpoints using np.arange or np.linspace. The latter generates a number\n",
        "# of values with equal spacing between two endpoints (inclusive) while the former\n",
        "# generates numbers at a given step size up to but excluding the upper limit.\n",
        "print(np.linspace(0, 1, 10))\n",
        "print(np.arange(0, 1, 0.1))"
      ],
      "metadata": {
        "colab": {
          "base_uri": "https://localhost:8080/"
        },
        "id": "3q7czq7s4xr2",
        "outputId": "23b739be-7804-48ed-e937-03dd6e33857f"
      },
      "execution_count": 25,
      "outputs": [
        {
          "output_type": "stream",
          "name": "stdout",
          "text": [
            "[0.         0.11111111 0.22222222 0.33333333 0.44444444 0.55555556\n",
            " 0.66666667 0.77777778 0.88888889 1.        ]\n",
            "[0.  0.1 0.2 0.3 0.4 0.5 0.6 0.7 0.8 0.9]\n"
          ]
        }
      ]
    },
    {
      "cell_type": "code",
      "source": [
        "# Higher-dimensional arrays can be created by nested lists. The number of nested\n",
        "# lists represents the number of dimensions of an array.\n",
        "mat = np.array([[1, 2], [3, 4]])\n",
        "print(mat.shape)"
      ],
      "metadata": {
        "colab": {
          "base_uri": "https://localhost:8080/"
        },
        "id": "wQOZjins5Ptt",
        "outputId": "32a906c3-69f1-4c15-ec9c-7bc4a1aeff62"
      },
      "execution_count": 26,
      "outputs": [
        {
          "output_type": "stream",
          "name": "stdout",
          "text": [
            "(2, 2)\n"
          ]
        }
      ]
    },
    {
      "cell_type": "code",
      "source": [
        "# Tensors are arrays with three or more dimensions. In fact, one might call any\n",
        "# sized array a tensor: \n",
        "#    * a vector (one-dimensional array) is a 1-tensor; \n",
        "#    * a two-dimensional array is a 2-tensor or matrix.\n",
        "vec = np.array([1, 2])\n",
        "print(mat.shape)\n",
        "print(vec.shape)"
      ],
      "metadata": {
        "colab": {
          "base_uri": "https://localhost:8080/"
        },
        "id": "7njk9IsG5hmG",
        "outputId": "78d173ef-1610-4013-e7f0-34ead5f7db21"
      },
      "execution_count": 27,
      "outputs": [
        {
          "output_type": "stream",
          "name": "stdout",
          "text": [
            "(2, 2)\n",
            "(2,)\n"
          ]
        }
      ]
    },
    {
      "cell_type": "code",
      "source": [
        "# Reshape - total number of elements remains unchanged.\n",
        "mat.reshape(4,)"
      ],
      "metadata": {
        "colab": {
          "base_uri": "https://localhost:8080/"
        },
        "id": "mSDfnjsG5z9F",
        "outputId": "a4d2fe93-c74b-4d62-fe8a-d4795312b3c7"
      },
      "execution_count": 28,
      "outputs": [
        {
          "output_type": "execute_result",
          "data": {
            "text/plain": [
              "array([1, 2, 3, 4])"
            ]
          },
          "metadata": {},
          "execution_count": 28
        }
      ]
    },
    {
      "cell_type": "code",
      "source": [
        "# Higher-dimensional array.\n",
        "mat1 = [[1, 2], [3, 4]]\n",
        "mat2 = [[5, 6], [7, 8]]\n",
        "mat3 = [[9, 10], [11, 12]]\n",
        "arr_3d = np.array([mat1, mat2, mat3])\n",
        "arr_3d.shape #  (outermost, ..., innermost)"
      ],
      "metadata": {
        "colab": {
          "base_uri": "https://localhost:8080/"
        },
        "id": "zDmWrXwm57N1",
        "outputId": "d84578af-f9fb-4581-d11e-bb477676fe8b"
      },
      "execution_count": 29,
      "outputs": [
        {
          "output_type": "execute_result",
          "data": {
            "text/plain": [
              "(3, 2, 2)"
            ]
          },
          "metadata": {},
          "execution_count": 29
        }
      ]
    },
    {
      "cell_type": "code",
      "source": [
        "# Element access\n",
        "mat = np.array([[1, 2], [3, 4]])\n",
        "print(mat)\n",
        "print(mat[0, 0])\n",
        "print(mat[0, 1])\n",
        "print(mat[:, 1])\n",
        "print(arr_3d[1, 1, 1])\n",
        "print(arr_3d[2, 1, 1])"
      ],
      "metadata": {
        "colab": {
          "base_uri": "https://localhost:8080/"
        },
        "id": "w5QGfZ8Z6Hwt",
        "outputId": "14ba758c-5c76-4bc0-f60c-f306afa6abed"
      },
      "execution_count": 30,
      "outputs": [
        {
          "output_type": "stream",
          "name": "stdout",
          "text": [
            "[[1 2]\n",
            " [3 4]]\n",
            "1\n",
            "2\n",
            "[2 4]\n",
            "8\n",
            "12\n"
          ]
        }
      ]
    },
    {
      "cell_type": "code",
      "source": [
        "np.zeros((3, 2, 2))"
      ],
      "metadata": {
        "colab": {
          "base_uri": "https://localhost:8080/"
        },
        "id": "UuMwlwjS6aF1",
        "outputId": "2d4e6243-d576-45fe-e28d-68a30106f0f7"
      },
      "execution_count": 31,
      "outputs": [
        {
          "output_type": "execute_result",
          "data": {
            "text/plain": [
              "array([[[0., 0.],\n",
              "        [0., 0.]],\n",
              "\n",
              "       [[0., 0.],\n",
              "        [0., 0.]],\n",
              "\n",
              "       [[0., 0.],\n",
              "        [0., 0.]]])"
            ]
          },
          "metadata": {},
          "execution_count": 31
        }
      ]
    },
    {
      "cell_type": "code",
      "source": [
        "# Identity matrix\n",
        "np.eye(3)"
      ],
      "metadata": {
        "colab": {
          "base_uri": "https://localhost:8080/"
        },
        "id": "3iUJ100X67ht",
        "outputId": "3c0f4c3c-b061-4a99-be11-2187ce46c962"
      },
      "execution_count": 32,
      "outputs": [
        {
          "output_type": "execute_result",
          "data": {
            "text/plain": [
              "array([[1., 0., 0.],\n",
              "       [0., 1., 0.],\n",
              "       [0., 0., 1.]])"
            ]
          },
          "metadata": {},
          "execution_count": 32
        }
      ]
    },
    {
      "cell_type": "code",
      "source": [
        "# The transpose function does not actually modify the data in the underlying \n",
        "# array but instead changes the shape and an internal flag that indicates the \n",
        "# order of stored values to be from row-contiguous (C style) to \n",
        "# column-contiguous (F style). This makes the operation very cheap.\n",
        "A = np.array([[1, 2], [3, 4]])\n",
        "\n",
        "assert np.array_equal(A.transpose(), A.T)\n",
        "assert np.array_equal(A.T, np.array([[1, 3], [2, 4]]))"
      ],
      "metadata": {
        "id": "zwzlO_aNk-1o"
      },
      "execution_count": 44,
      "outputs": []
    },
    {
      "cell_type": "code",
      "source": [
        "# Trace = sum of leading diagonal\n",
        "assert A.trace() == 5\n",
        "assert np.array([[3, 4], [4, 10]]).trace() == 13"
      ],
      "metadata": {
        "id": "HqTkE0bzpuNg"
      },
      "execution_count": 50,
      "outputs": []
    },
    {
      "cell_type": "code",
      "source": [
        "# Matrix multiplication\n",
        "A = np.array([\n",
        "    [1, 2], \n",
        "    [3, 4]\n",
        "])\n",
        "B = np.array([\n",
        "    [-1, 1], \n",
        "    [0, 1]\n",
        "])\n",
        "print(A @ B)\n",
        "#     array([[-1, 3],\n",
        "#            [-3, 7]])\n",
        "print(A * B) # different from A @ B\n",
        "#    array([[-1, 2],\n",
        "#           [ 0, 4]])\n",
        "\n",
        "assert ~np.array_equal(A @ B, B @ A)"
      ],
      "metadata": {
        "colab": {
          "base_uri": "https://localhost:8080/"
        },
        "id": "2IedbmtwrhcY",
        "outputId": "629e2896-b651-4ab0-cf46-edd3bac5b1cd"
      },
      "execution_count": 90,
      "outputs": [
        {
          "output_type": "stream",
          "name": "stdout",
          "text": [
            "[[-1  3]\n",
            " [-3  7]]\n",
            "[[-1  2]\n",
            " [ 0  4]]\n"
          ]
        }
      ]
    },
    {
      "cell_type": "code",
      "source": [
        "# Identity matrix\n",
        "A = np.array([[1, 2], [3, 4]])\n",
        "I = np.eye(2)\n",
        "assert np.array_equal(A @ I, A)\n",
        "assert np.array_equal(A @ I, I @ A)"
      ],
      "metadata": {
        "id": "swgJq9lJruNx"
      },
      "execution_count": 91,
      "outputs": []
    },
    {
      "cell_type": "code",
      "source": [
        "# Determinant\n",
        "#\n",
        "# The determinant of a square matrix is important due to its strong link with \n",
        "# finding the inverse of a matrix. A matrix with a nonzero determinant has a\n",
        "# unique inverse, leading to unique solutions of certain systems of equations.\n",
        "# The determinant of a matrix is defined recursively. For a 2x2 matrix A:\n",
        "#\n",
        "# det(A) = a_{1,1}a_{2,2} - a{1,2}a{2,1}\n",
        "print(np.linalg.det(A))\n",
        "print(np.linalg.inv(A))"
      ],
      "metadata": {
        "colab": {
          "base_uri": "https://localhost:8080/"
        },
        "id": "TLLT9NvBuqBo",
        "outputId": "595dac31-eb9d-4a93-ee92-98015f0d9b86"
      },
      "execution_count": 92,
      "outputs": [
        {
          "output_type": "stream",
          "name": "stdout",
          "text": [
            "-2.0000000000000004\n",
            "[[-2.   1. ]\n",
            " [ 1.5 -0.5]]\n"
          ]
        }
      ]
    },
    {
      "cell_type": "code",
      "source": [
        "Ainv = np.linalg.inv(A)\n",
        "assert np.isclose(Ainv @ A, np.eye(2)).all()\n",
        "assert np.isclose(A @ Ainv, np.eye(2)).all()"
      ],
      "metadata": {
        "id": "lbJIZ9ebyce5"
      },
      "execution_count": 95,
      "outputs": []
    },
    {
      "cell_type": "code",
      "source": [
        "# Systems of linear equations\n",
        "#\n",
        "#  Ax = b\n",
        "#\n",
        "#  3x_1 - 2x_2 +  x_3 =  7\n",
        "#   x_1 +  x_2 - 2x_3 = -4\n",
        "# -3x_1 - 2x_2 +  x_3 =  1\n",
        "A = np.array([[3, -2, 1], [1, 1, -2], [-3, -2, 1]])\n",
        "b = np.array([7, -4, 1])\n",
        "print(np.linalg.det(A) != 0)\n",
        "print(np.linalg.solve(A, b))  # Decomposes A into simpler matrices\n",
        "print(np.linalg.inv(A) @ b)   # Slower and more error prone"
      ],
      "metadata": {
        "colab": {
          "base_uri": "https://localhost:8080/"
        },
        "id": "JOzCT5aOy6jZ",
        "outputId": "dc77bf42-5ffd-4b8f-933e-f6395d952471"
      },
      "execution_count": 96,
      "outputs": [
        {
          "output_type": "stream",
          "name": "stdout",
          "text": [
            "True\n",
            "[ 1. -1.  2.]\n",
            "[ 1. -1.  2.]\n"
          ]
        }
      ]
    },
    {
      "cell_type": "code",
      "source": [
        "# Eigenvalues and eigenvectors\n",
        "#\n",
        "# If A is a square matrix, x a vector and lambda a number, the numbers lambda \n",
        "# for which there is an x that solves A x = lambda x are called eigenvalues\n",
        "# and the corresponding vectors x are called eigenvectors.\n",
        "A = np.array([[3, -1, 4], [-1, 0, -1], [4, -1, 2]])\n",
        "v, B = np.linalg.eig(A)\n",
        "\n",
        "# First eigenvalue/eigenvector pair\n",
        "i = 0 \n",
        "\n",
        "lambda0 = v[i]\n",
        "print(lambda0)\n",
        "\n",
        "x0 = B[:, i] # ith column of B\n",
        "print(x0) # Normalized so that they have a norm of 1.\n",
        "assert np.linalg.norm(x0) == 1"
      ],
      "metadata": {
        "colab": {
          "base_uri": "https://localhost:8080/"
        },
        "id": "bcmQfI2Yzer4",
        "outputId": "d006ebfc-328b-4d68-e781-3c88e0b0586c"
      },
      "execution_count": 97,
      "outputs": [
        {
          "output_type": "stream",
          "name": "stdout",
          "text": [
            "6.823156164525971\n",
            "[ 0.73271846 -0.20260301  0.64967352]\n"
          ]
        }
      ]
    },
    {
      "cell_type": "code",
      "source": [
        "lhs = A @ x0\n",
        "rhs = lambda0 * x0\n",
        "print(np.linalg.norm(lhs - rhs)) # Distance between lhs and rhs\n",
        "assert np.isclose(lhs, rhs).all()"
      ],
      "metadata": {
        "colab": {
          "base_uri": "https://localhost:8080/"
        },
        "id": "hLh8lDfc0ctQ",
        "outputId": "06de851f-d82f-469e-c9c3-f54012eb134a"
      },
      "execution_count": 98,
      "outputs": [
        {
          "output_type": "stream",
          "name": "stdout",
          "text": [
            "2.8435583831733384e-15\n"
          ]
        }
      ]
    },
    {
      "cell_type": "code",
      "source": [
        "# To find eigenvalues and eigenvectors, you first need to find lambda such that\n",
        "#                           det(A - lambda I) = 0\n",
        "# The equation determined by the lhs is a polynomial in lambda called the\n",
        "# characteristic polynomial of A. The eigenvector corresponding to the eigenvalue\n",
        "# lambda_i can then be found by solving:\n",
        "#\n",
        "#                           (A - lambda_j I)x = 0\n"
      ],
      "metadata": {
        "id": "dReNkH0U1BwH"
      },
      "execution_count": null,
      "outputs": []
    }
  ]
}